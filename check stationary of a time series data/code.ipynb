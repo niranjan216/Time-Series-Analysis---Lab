{
 "cells": [
  {
   "cell_type": "code",
   "execution_count": 7,
   "id": "74b02281-61fd-4960-9c34-b0e4ab66d64b",
   "metadata": {},
   "outputs": [
    {
     "name": "stdout",
     "output_type": "stream",
     "text": [
      "ADF Test Results:\n",
      "ADF Statistic: -6.309145\n",
      "p-value: 0.000000\n",
      "Critical Values:\n",
      "   1%: -3.457105\n",
      "   5%: -2.873314\n",
      "   10%: -2.573044\n",
      "Conclusion: The series is stationary (reject null hypothesis).\n",
      "\n",
      "KPSS Test Results:\n",
      "KPSS Statistic: 0.562066\n",
      "p-value: 0.027688\n",
      "Critical Values:\n",
      "   10%: 0.347000\n",
      "   5%: 0.463000\n",
      "   2.5%: 0.574000\n",
      "   1%: 0.739000\n",
      "Conclusion: The series is not stationary (reject null hypothesis).\n"
     ]
    }
   ],
   "source": [
    "import pandas as pd\n",
    "from statsmodels.tsa.stattools import adfuller, kpss\n",
    "\n",
    "# Load the dataset\n",
    "file_path =r\"C:\\Users\\Lenovo\\check stationary of a time series data\\dataset.csv\"\n",
    "df = pd.read_csv(file_path)\n",
    "\n",
    "# Convert 'Date' column to datetime format and set it as index\n",
    "df[\"Date\"] = pd.to_datetime(df[\"Date\"])\n",
    "df.set_index(\"Date\", inplace=True)\n",
    "\n",
    "# Extract the 'Close' price for stationarity analysis\n",
    "close_prices = df[\"Close\"]\n",
    "\n",
    "# Perform Augmented Dickey-Fuller (ADF) test\n",
    "adf_test = adfuller(close_prices)\n",
    "print(\"ADF Test Results:\")\n",
    "print(f\"ADF Statistic: {adf_test[0]:.6f}\")\n",
    "print(f\"p-value: {adf_test[1]:.6f}\")\n",
    "print(\"Critical Values:\")\n",
    "for key, value in adf_test[4].items():\n",
    "    print(f\"   {key}: {value:.6f}\")\n",
    "if adf_test[1] < 0.05:\n",
    "    print(\"Conclusion: The series is stationary (reject null hypothesis).\")\n",
    "else:\n",
    "    print(\"Conclusion: The series is not stationary (fail to reject null hypothesis).\")\n",
    "\n",
    "# Perform Kwiatkowski-Phillips-Schmidt-Shin (KPSS) test\n",
    "kpss_test = kpss(close_prices, regression=\"c\", nlags=\"auto\")\n",
    "print(\"\\nKPSS Test Results:\")\n",
    "print(f\"KPSS Statistic: {kpss_test[0]:.6f}\")\n",
    "print(f\"p-value: {kpss_test[1]:.6f}\")\n",
    "print(\"Critical Values:\")\n",
    "for key, value in kpss_test[3].items():\n",
    "    print(f\"   {key}: {value:.6f}\")\n",
    "if kpss_test[1] > 0.05:\n",
    "    print(\"Conclusion: The series is stationary (fail to reject null hypothesis).\")\n",
    "else:\n",
    "    print(\"Conclusion: The series is not stationary (reject null hypothesis).\")"
   ]
  },
  {
   "cell_type": "code",
   "execution_count": null,
   "id": "7246cb95-3e83-4314-8948-4205e2f5ffe7",
   "metadata": {},
   "outputs": [],
   "source": []
  }
 ],
 "metadata": {
  "kernelspec": {
   "display_name": "Python 3 (ipykernel)",
   "language": "python",
   "name": "python3"
  },
  "language_info": {
   "codemirror_mode": {
    "name": "ipython",
    "version": 3
   },
   "file_extension": ".py",
   "mimetype": "text/x-python",
   "name": "python",
   "nbconvert_exporter": "python",
   "pygments_lexer": "ipython3",
   "version": "3.12.4"
  }
 },
 "nbformat": 4,
 "nbformat_minor": 5
}
